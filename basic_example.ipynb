{
 "cells": [
  {
   "cell_type": "markdown",
   "id": "2e2e251b",
   "metadata": {},
   "source": [
    "# Hogwild! Parallelism: Basic Example\n",
    "\n",
    "This example demonstrates Hogwild! inference on a single problem with 2 workers and minimal prompt defined below. There are no few-shot examples or prompt insertions, and the cache layout is the simplest one possible: two contiguous workspaces. This notebook is intended as a playground while the other notebooks present more advanced prompting and cache layout."
   ]
  },
  {
   "cell_type": "code",
   "execution_count": 1,
   "id": "aadbc3c8",
   "metadata": {},
   "outputs": [
    {
     "name": "stdout",
     "output_type": "stream",
     "text": [
      "env: CUDA_VISIBLE_DEVICES=3\n",
      "env: HF_HOME=/mnt/LLM\n",
      "env: OMP_NUM_THREADS=16\n"
     ]
    },
    {
     "name": "stderr",
     "output_type": "stream",
     "text": [
      "Sliding Window Attention is enabled but not implemented for `sdpa`; unexpected results may be encountered.\n"
     ]
    },
    {
     "data": {
      "application/vnd.jupyter.widget-view+json": {
       "model_id": "04ef2a32e3b742dc8ea3341fd708d4a3",
       "version_major": 2,
       "version_minor": 0
      },
      "text/plain": [
       "Loading checkpoint shards:   0%|          | 0/14 [00:00<?, ?it/s]"
      ]
     },
     "metadata": {},
     "output_type": "display_data"
    }
   ],
   "source": [
    "%env CUDA_VISIBLE_DEVICES=3\n",
    "%env HF_HOME=/mnt/LLM\n",
    "%env OMP_NUM_THREADS=16\n",
    "import torch\n",
    "import transformers\n",
    "import shared_cache\n",
    "from IPython.display import display, Markdown, clear_output\n",
    "\n",
    "MODEL_NAME = \"Qwen/QwQ-32B\"  # for 48GB gpus, use \"Qwen/QwQ-32B-AWQ\" instead\n",
    "device = torch.device('cuda' if torch.cuda.is_available() else 'cpu')\n",
    "tokenizer = transformers.AutoTokenizer.from_pretrained(MODEL_NAME)\n",
    "model = transformers.AutoModelForCausalLM.from_pretrained(\n",
    "    MODEL_NAME, torch_dtype='auto', low_cpu_mem_usage=True, device_map=device)\n",
    "\n",
    "parallelism_prompt_common = \"\"\"\n",
    "I will collaborate this problem with another. We refer to each other as Alice and Bob. We are assistants.\n",
    "\n",
    "We will reason together and try to collaborate. I will take into account what the other assistant is doing and try to help them.\n",
    "\n",
    "We will write our solutions concurrently. I will write my own thoughts at the bottom, and see the other's thoughts above.\n",
    "\n",
    "I will not repeat the copy assistant's thoughts: I can already see them above.\n",
    "\n",
    "The other assistant will continue writing their thoughts above while I am writing mine. They will add more text every time I check.\n",
    "\n",
    "Since we both write our thoughts in parallel, I will initially see only partial (unfinished) thoughts of the other assistant.\n",
    "I will use these partial thoughts to decide how best to help the other assistant without doing the same work twice.\n",
    "\n",
    "When reasoning, we will five each other tasks to coordinate (e.g. if Alice writes: Bob, please do this, then Bob should take this into account).\n",
    "\n",
    "Before doing anything, I will check the other assistant's workspace. If they have already done that or are currently doing it, I don't need to do that again. If so, I will stop (e.g. 'Wait, this is already done') and pivot to a different task.\n",
    "\"\"\".strip()\n",
    "\n",
    "worker_headers = [\"\\n\\n# Alice workspace\\n\\n\", \"\\n\\n# Bob workspace\\n\\n\"]\n",
    "prompt_split = \" <the assistant will continue here>\\n\\n\"\n",
    "\n",
    "forbidden_token_ix = [tokenizer.vocab[x] for x in (\"#\", \"</think>\")]\n",
    "for x in tokenizer.special_tokens_map.values():\n",
    "    forbidden_token_ix.extend([tokenizer.vocab[x]] if isinstance(x, str) else map(tokenizer.vocab.get, x))\n",
    "tokenizer_kwargs = dict(add_special_tokens=False, return_tensors='pt', padding=True, padding_side='left')"
   ]
  },
  {
   "cell_type": "markdown",
   "id": "354601ba",
   "metadata": {},
   "source": [
    "__Playground:__ you can define a problem and see if the workers collaborate. With this simple setup, they do not always do that well out of the box, but this allows you to see how the prompt impacts their actions."
   ]
  },
  {
   "cell_type": "code",
   "execution_count": null,
   "id": "7faa1ebd",
   "metadata": {
    "scrolled": false
   },
   "outputs": [
    {
     "data": {
      "text/markdown": [
       "\n",
       "\n",
       "# Alice workspace\n",
       "\n",
       "I am Alice. Let's solve this together, Bob. Here's how we should collaborate: I'll handle calculating the values for x=5 and x=6, while you take care of x=7 and x=8. That way, we can split the work evenly. Once we both have our results, we'll compile them all into the final answer. Sound good?\n",
       "\n",
       "Alright, starting with x=5. The expression is x - x² + x³. Let me compute each term step by step to avoid mistakes. \n",
       "\n",
       "First term: x = 5. \n",
       "\n",
       "Second term: -x². Since x is 5, that's - (5)^2 = -25.\n",
       "\n",
       "Third term: +x³. That's (5)^3 = 125.\n",
       "\n",
       "Now add them all together: 5 -25 +125. Let's compute 5 -25 first, which is -20, then add 125: -20 +125 = 105. So for x=5, the result is 105.\n",
       "\n",
       "Moving on to x=6. Let's do the same process.\n",
       "\n",
       "First term: 6.\n",
       "\n",
       "Second term: - (6)^2 = -36.\n",
       "\n",
       "Third term: + (6)^3 = 216.\n",
       "\n",
       "Adding them: 6 -36 +216. 6-36 is -30, then -30 +216 = 186. So x=6 gives 186.\n",
       "\n",
       "Wait, let me double-check that. 6 minus 36 is indeed -30, plus 216 is 186. Correct.\n",
       "\n",
       "Now I'll wait for Bob's results for x=7 and x=8. Once he provides those, we can compile all four answers as required. Let me check if I did everything correctly again. The expression is definitely x - x² +x³. For x=5, 5 -25 +125=105. Yes. For x=6, 6-36+216=186. That seems right. Okay, I think that's my part done. Let me see what Bob has.\n",
       "Okay, Bob has already calculated x=7 as 301 and x=8 as 456. Let me confirm those quickly. \n",
       "\n",
       "For x=7: 7 - 49 + 343. 7-49 is -42, plus 343 is 301. Correct. \n",
       "\n",
       "For x=8: 8 -64 +512. 8-64 is -56, plus 512 is 456. Correct. \n",
       "\n",
       "Perfect, so all four results are 105, 186, 301, 456. The user wants all four answers boxed. Since the problem says \"Alice must return all 4 answers in boxed{}\", I need to present them properly. Let me format them as boxed numbers. The order is x=5,6,7,8, so the answers should be in that sequence. \n",
       "\n",
       "Therefore, the final answers are:\n",
       "\n",
       "For x=5: \\boxed{105}\n",
       "\n",
       "x=6: \\boxed{186}\n",
       "\n",
       "x=7: \\boxed{301}\n",
       "\n",
       "x=8: \\boxed{456}\n",
       "\n",
       "I think that's all. Let me just make sure there's no arithmetic errors. Maybe I'll recheck one more time for x=8. 8 cubed is 512, yes. 8 squared is 64. So 8 -64 is -56, plus 512 is 456. Correct. Alright, looks good\n",
       "\n",
       "# Bob workspace\n",
       "\n",
       "I am Bob. Let's solve this together, Alice. Let me see what you need. You mentioned calculating x - x² + x³ for x=5,6,7,8. Since you're doing 5 and 6, I'll do 7 and 8. Let me start with x=7 first. \n",
       "\n",
       "Wait, before I jump in, let me confirm the expression again. The problem says \"Calculate x - x² + x³\". So it's linear term minus quadratic plus cubic. Let me make sure I parse that correctly. So for each x, compute (x) - (x squared) + (x cubed). \n",
       "\n",
       "Starting with x=7:\n",
       "\n",
       "First term: 7\n",
       "\n",
       "Second term: - (7)^2 = -49\n",
       "\n",
       "Third term: + (7)^3 = +343\n",
       "\n",
       "Adding them up: 7 -49 +343. Let me compute step by step. 7 -49 is -42, then -42 +343 = 301. Hmm, that seems straightforward. Let me check again. 7 minus 49 is indeed -42, plus 343 gives 301. Okay, that seems right.\n",
       "\n",
       "Now x=8:\n",
       "\n",
       "First term: 8\n",
       "\n",
       "Second term: - (8)^2 = -64\n",
       "\n",
       "Third term: + (8)^3 = 512\n",
       "\n",
       "Adding them: 8 -64 +512. 8-64 is -56, then -56 +512 = 456. Let me verify. 8 minus 64 is -56, plus 512 is 456. That looks correct.\n",
       "\n",
       "Wait, but let me make sure I didn't miscalculate 8 cubed. 8*8 is 64, 64*8 is 512. Yes, that's right. So 8 -64 is -56, plus 512 is indeed 456. Okay, so my results are 301 for x=7 and 456 for x=8.\n",
       "\n",
       "Now, let me check if there's any chance I misread the problem. The user specified \"Calculate x - x² + x³ for x = 5,6,7,8. Alice must return all 4 answers in boxed{}.\" Since Alice is handling 5 and 6, and I did 7 and 8, we have all four. The user wants all four answers boxed. Since Alice is supposed to return them, I should make sure she has all the numbers. Let me see if she's done with her calculations.\n",
       "\n",
       "Looking at Alice's workspace, she has 105 for 5 and 186 for 6. So compiling all together:\n",
       "\n",
       "x=5: 105\n",
       "\n",
       "x=6: 186\n",
       "\n",
       "x=7: 301\n",
       "\n",
       "x=8: 456\n",
       "\n",
       "Therefore, the final answers should be boxed as \\boxed{105}, \\boxed{186}, \\boxed{301}, \\boxed{456}. \n",
       "\n",
       "Wait, but the problem says \"return all 4 answers in boxed{}\", so maybe they need to be in a single box separated by commas? Or each in their own box? The instruction says \"all 4 answers in boxed{}\", which might mean each in their own box. Let me check the problem again.\n",
       "\n",
       "Original problem: \"Calculate x - x^2 + x^3 for x = 5,6,7,8. Alice must return all 4 answers in \boxed{ }.\"\n",
       "\n",
       "Hmm, the wording is a bit ambiguous. The user might mean each answer in"
      ],
      "text/plain": [
       "<IPython.core.display.Markdown object>"
      ]
     },
     "metadata": {},
     "output_type": "display_data"
    }
   ],
   "source": [
    "problem = \"\"\"Calculate x - x^2 + x^3 for x = 5,6,7,8. Alice must return all 4 answers in \\boxed{ }.\"\"\"\n",
    "\n",
    "prompt_full_input = tokenizer.apply_chat_template(\n",
    "    [dict(role='user', content=problem)], tokenize=False, add_generation_prompt=True\n",
    ") + \"\\n\\n\" + parallelism_prompt_common\n",
    "\n",
    "worker_prompts = [\n",
    "    f\"\"\"{worker_headers[0]}I am Alice. Let's solve this together, Bob. Here's how we should collaborate:\"\"\",\n",
    "    f\"\"\"{worker_headers[1]}I am Bob. Let's solve this together, Alice.\"\"\"\n",
    "]\n",
    "\n",
    "cache_input, cache_split, cache_w1, cache_w2 = (shared_cache.CacheBlock(config=model.config) for _ in range(4))\n",
    "cm = shared_cache.SharedCacheManager(cache_structure=[\n",
    "    [cache_input, cache_w2, cache_split, cache_w1],\n",
    "    [cache_input, cache_w1, cache_split, cache_w2],\n",
    "], write_to=[cache_w1, cache_w2])\n",
    "\n",
    "# pre-fill common parts\n",
    "with torch.no_grad():\n",
    "    model(**tokenizer(prompt_full_input, **tokenizer_kwargs).to(device),\n",
    "          use_cache=True, past_key_values=cache_input);  # <-- write to common prompt\n",
    "    model(**tokenizer(prompt_split, **tokenizer_kwargs).to(device),\n",
    "          use_cache=True, past_key_values=cache_split);   # <-- write to common separator\n",
    "\n",
    "# generate tokens in parallel with each worker\n",
    "next_inputs = tokenizer(worker_prompts, **tokenizer_kwargs).to(device)\n",
    "tokens_by_worker = tokenizer(worker_prompts)['input_ids']  # for printing\n",
    "for inference_step in range(1024):       # <-- change max tokens here\n",
    "    with torch.no_grad():\n",
    "        logits = model(**cm.get_input_kwargs(**next_inputs)).logits[..., -1, :]\n",
    "        logits[..., forbidden_token_ix] -= 100\n",
    "        new_tokens = logits.argmax(-1)   # <-- greedy generation\n",
    "        next_inputs = dict(input_ids=new_tokens.view(-1, 1))\n",
    "    \n",
    "    for worker_tokens, new_token in zip(tokens_by_worker, new_tokens.tolist()):\n",
    "        worker_tokens.append(new_token)\n",
    "    clear_output(True)\n",
    "    display(Markdown(\"\".join(tokenizer.decode(seq) for seq in tokens_by_worker)))"
   ]
  }
 ],
 "metadata": {
  "kernelspec": {
   "display_name": "Python 3 (ipykernel)",
   "language": "python",
   "name": "python3"
  },
  "language_info": {
   "codemirror_mode": {
    "name": "ipython",
    "version": 3
   },
   "file_extension": ".py",
   "mimetype": "text/x-python",
   "name": "python",
   "nbconvert_exporter": "python",
   "pygments_lexer": "ipython3",
   "version": "3.12.2"
  }
 },
 "nbformat": 4,
 "nbformat_minor": 5
}
